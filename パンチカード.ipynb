{
 "cells": [
  {
   "cell_type": "code",
   "execution_count": 1,
   "metadata": {},
   "outputs": [
    {
     "data": {
      "text/plain": [
       "0"
      ]
     },
     "execution_count": 1,
     "metadata": {},
     "output_type": "execute_result"
    }
   ],
   "source": [
    "import sys, subprocess\n",
    "subprocess.check_call([sys.executable, '-m', 'pip', 'install', 'gspread'])\n",
    "subprocess.check_call([sys.executable, '-m', 'pip', 'install', 'oauth2client'])\n",
    "subprocess.check_call([sys.executable, '-m', 'pip', 'install', 'slackbot'])"
   ]
  },
  {
   "cell_type": "code",
   "execution_count": null,
   "metadata": {},
   "outputs": [],
   "source": [
    "import pandas as pd\n",
    "from datetime import datetime\n",
    "import gspread\n",
    "from oauth2client.service_account import ServiceAccountCredentials\n",
    "from slackbot.bot import Bot"
   ]
  },
  {
   "cell_type": "code",
   "execution_count": 57,
   "metadata": {},
   "outputs": [],
   "source": [
    "def auth():\n",
    "    SP_CREDENTTIAL_FILE='secret.json'\n",
    "    SP_SCOPE=[\n",
    "            'https://spreadsheets.google.com/feeds',\n",
    "            'https://www.googleapis.com/auth/drive'\n",
    "    ]\n",
    "    SP_SHEET_KEY = '17daAsaIsevTmLBH7HLqG4HWMIJi7vVqUEQ6JNCGjKKk'\n",
    "    SP_SHEET = 'timesheet'\n",
    "    credentials =ServiceAccountCredentials.from_json_keyfile_name(SP_CREDENTTIAL_FILE,SP_SCOPE)\n",
    "    gc = gspread.authorize(credentials)\n",
    "\n",
    "    worksheet= gc.open_by_key(SP_SHEET_KEY).worksheet(SP_SHEET)\n",
    "    return worksheet"
   ]
  },
  {
   "cell_type": "code",
   "execution_count": 58,
   "metadata": {},
   "outputs": [
    {
     "data": {
      "text/html": [
       "<div>\n",
       "<style scoped>\n",
       "    .dataframe tbody tr th:only-of-type {\n",
       "        vertical-align: middle;\n",
       "    }\n",
       "\n",
       "    .dataframe tbody tr th {\n",
       "        vertical-align: top;\n",
       "    }\n",
       "\n",
       "    .dataframe thead th {\n",
       "        text-align: right;\n",
       "    }\n",
       "</style>\n",
       "<table border=\"1\" class=\"dataframe\">\n",
       "  <thead>\n",
       "    <tr style=\"text-align: right;\">\n",
       "      <th></th>\n",
       "      <th>日付</th>\n",
       "      <th>出勤時間</th>\n",
       "      <th>退勤時間</th>\n",
       "    </tr>\n",
       "  </thead>\n",
       "  <tbody>\n",
       "    <tr>\n",
       "      <th>0</th>\n",
       "      <td>2021/03/10</td>\n",
       "      <td>10:00</td>\n",
       "      <td>11:00</td>\n",
       "    </tr>\n",
       "  </tbody>\n",
       "</table>\n",
       "</div>"
      ],
      "text/plain": [
       "           日付   出勤時間   退勤時間\n",
       "0  2021/03/10  10:00  11:00"
      ]
     },
     "execution_count": 58,
     "metadata": {},
     "output_type": "execute_result"
    }
   ],
   "source": [
    "df=pd.DataFrame(worksheet.get_all_records())\n",
    "df"
   ]
  },
  {
   "cell_type": "code",
   "execution_count": 59,
   "metadata": {},
   "outputs": [
    {
     "data": {
      "text/plain": [
       "'2021/03/31'"
      ]
     },
     "execution_count": 59,
     "metadata": {},
     "output_type": "execute_result"
    }
   ],
   "source": [
    "timestamp =datetime.now()\n",
    "date=timestamp.strftime('%Y/%m/%d')\n",
    "date"
   ]
  },
  {
   "cell_type": "code",
   "execution_count": 60,
   "metadata": {
    "scrolled": true
   },
   "outputs": [
    {
     "data": {
      "text/plain": [
       "'11:43'"
      ]
     },
     "execution_count": 60,
     "metadata": {},
     "output_type": "execute_result"
    }
   ],
   "source": [
    "punch_in =timestamp.strftime('%H:%M')\n",
    "punch_in"
   ]
  },
  {
   "cell_type": "code",
   "execution_count": 61,
   "metadata": {},
   "outputs": [],
   "source": [
    "df=df.append({'日付':date,'出勤時間':punch_in,'退勤時間':'なし'},ignore_index=True)"
   ]
  },
  {
   "cell_type": "code",
   "execution_count": 62,
   "metadata": {},
   "outputs": [
    {
     "data": {
      "text/plain": [
       "{'spreadsheetId': '17daAsaIsevTmLBH7HLqG4HWMIJi7vVqUEQ6JNCGjKKk',\n",
       " 'updatedRange': 'timesheet!A1:C3',\n",
       " 'updatedRows': 3,\n",
       " 'updatedColumns': 3,\n",
       " 'updatedCells': 9}"
      ]
     },
     "execution_count": 62,
     "metadata": {},
     "output_type": "execute_result"
    }
   ],
   "source": [
    "worksheet.update([df.columns.values.tolist()]+df.values.tolist())"
   ]
  },
  {
   "cell_type": "code",
   "execution_count": 64,
   "metadata": {},
   "outputs": [
    {
     "data": {
      "text/plain": [
       "'11:43'"
      ]
     },
     "execution_count": 64,
     "metadata": {},
     "output_type": "execute_result"
    }
   ],
   "source": [
    "punch_out=timestamp.strftime('%H:%M')\n",
    "punch_out"
   ]
  },
  {
   "cell_type": "code",
   "execution_count": 65,
   "metadata": {},
   "outputs": [],
   "source": [
    "df.iloc[-1,2]=punch_out"
   ]
  },
  {
   "cell_type": "code",
   "execution_count": 66,
   "metadata": {},
   "outputs": [
    {
     "data": {
      "text/html": [
       "<div>\n",
       "<style scoped>\n",
       "    .dataframe tbody tr th:only-of-type {\n",
       "        vertical-align: middle;\n",
       "    }\n",
       "\n",
       "    .dataframe tbody tr th {\n",
       "        vertical-align: top;\n",
       "    }\n",
       "\n",
       "    .dataframe thead th {\n",
       "        text-align: right;\n",
       "    }\n",
       "</style>\n",
       "<table border=\"1\" class=\"dataframe\">\n",
       "  <thead>\n",
       "    <tr style=\"text-align: right;\">\n",
       "      <th></th>\n",
       "      <th>日付</th>\n",
       "      <th>出勤時間</th>\n",
       "      <th>退勤時間</th>\n",
       "    </tr>\n",
       "  </thead>\n",
       "  <tbody>\n",
       "    <tr>\n",
       "      <th>0</th>\n",
       "      <td>2021/03/10</td>\n",
       "      <td>10:00</td>\n",
       "      <td>11:00</td>\n",
       "    </tr>\n",
       "    <tr>\n",
       "      <th>1</th>\n",
       "      <td>2021/03/31</td>\n",
       "      <td>11:43</td>\n",
       "      <td>11:43</td>\n",
       "    </tr>\n",
       "  </tbody>\n",
       "</table>\n",
       "</div>"
      ],
      "text/plain": [
       "           日付   出勤時間   退勤時間\n",
       "0  2021/03/10  10:00  11:00\n",
       "1  2021/03/31  11:43  11:43"
      ]
     },
     "execution_count": 66,
     "metadata": {},
     "output_type": "execute_result"
    }
   ],
   "source": [
    "df"
   ]
  },
  {
   "cell_type": "code",
   "execution_count": null,
   "metadata": {},
   "outputs": [],
   "source": [
    "worksheet.update([df.columns.values.tolist()]+df.values.tolist())"
   ]
  },
  {
   "cell_type": "code",
   "execution_count": null,
   "metadata": {},
   "outputs": [],
   "source": []
  },
  {
   "cell_type": "code",
   "execution_count": 17,
   "metadata": {},
   "outputs": [],
   "source": [
    "import sys, subprocess\n",
    "subprocess.check_call([sys.executable, '-m', 'pip', 'install', 'gspread'])\n",
    "subprocess.check_call([sys.executable, '-m', 'pip', 'install', 'oauth2client'])\n",
    "\n",
    "import pandas as pd\n",
    "from datetime import datetime\n",
    "import gspread\n",
    "from oauth2client.service_account import ServiceAccountCredentials\n",
    "\n",
    "def auth():\n",
    "    SP_CREDENTTIAL_FILE='secret.json'\n",
    "    SP_SCOPE=[\n",
    "            'https://spreadsheets.google.com/feeds',\n",
    "            'https://www.googleapis.com/auth/drive'\n",
    "    ]\n",
    "    SP_SHEET_KEY = '17daAsaIsevTmLBH7HLqG4HWMIJi7vVqUEQ6JNCGjKKk'\n",
    "    SP_SHEET = 'timesheet'\n",
    "    credentials =ServiceAccountCredentials.from_json_keyfile_name(SP_CREDENTTIAL_FILE,SP_SCOPE)\n",
    "    gc = gspread.authorize(credentials)\n",
    "\n",
    "    worksheet= gc.open_by_key(SP_SHEET_KEY).worksheet(SP_SHEET)\n",
    "    return worksheet\n",
    "#出勤\n",
    "def punch_in():\n",
    "    worksheet=auth()\n",
    "    df=pd.DataFrame(worksheet.get_all_records())\n",
    "    timestamp =datetime.now()\n",
    "    date=timestamp.strftime('%Y/%m/%d')\n",
    "    punch_in =timestamp.strftime('%H:%M')\n",
    "    df=df.append({'日付':date,'出勤時間':punch_in,'退勤時間':'なし'},ignore_index=True)\n",
    "    worksheet.update([df.columns.values.tolist()]+df.values.tolist())\n",
    "    print(\"出勤完了しました\")\n",
    "    return(punch_in)\n",
    "\n",
    "def punch_out():\n",
    "    worksheet=auth()\n",
    "    df=pd.DataFrame(worksheet.get_all_records())\n",
    "    timestamp =datetime.now()\n",
    "    punch_out =timestamp.strftime('%H:%M')\n",
    "    df.iloc[-1,2]=punch_out\n",
    "    worksheet.update([df.columns.values.tolist()]+df.values.tolist())\n",
    "    print(\"退勤完了しました\")\n",
    "    return(punch_out)\n",
    "    "
   ]
  },
  {
   "cell_type": "code",
   "execution_count": 72,
   "metadata": {},
   "outputs": [
    {
     "name": "stdout",
     "output_type": "stream",
     "text": [
      "出勤完了しました\n"
     ]
    }
   ],
   "source": [
    "punch_in()\n"
   ]
  },
  {
   "cell_type": "code",
   "execution_count": 76,
   "metadata": {},
   "outputs": [
    {
     "name": "stdout",
     "output_type": "stream",
     "text": [
      "退勤完了しました\n"
     ]
    }
   ],
   "source": [
    "punch_out()"
   ]
  },
  {
   "cell_type": "code",
   "execution_count": null,
   "metadata": {},
   "outputs": [],
   "source": [
    "bot=Bot()\n",
    "bot.run()"
   ]
  },
  {
   "cell_type": "code",
   "execution_count": 18,
   "metadata": {},
   "outputs": [],
   "source": [
    "from slackbot.bot import respond_to\n",
    "from slackbot.bot import listen_to"
   ]
  },
  {
   "cell_type": "code",
   "execution_count": 19,
   "metadata": {},
   "outputs": [],
   "source": [
    "@respond_to('出勤')\n",
    "def sample(massage):\n",
    "    massage.send(punch_in())\n",
    "@respond_to('退勤')\n",
    "def sample1(message):\n",
    "    message.reply(punch_out())"
   ]
  },
  {
   "cell_type": "code",
   "execution_count": null,
   "metadata": {},
   "outputs": [
    {
     "name": "stdout",
     "output_type": "stream",
     "text": [
      "出勤完了しました\n",
      "退勤完了しました\n"
     ]
    }
   ],
   "source": [
    "bot.run()"
   ]
  },
  {
   "cell_type": "code",
   "execution_count": null,
   "metadata": {},
   "outputs": [],
   "source": []
  }
 ],
 "metadata": {
  "kernelspec": {
   "display_name": "Python 3",
   "language": "python",
   "name": "python3"
  }
 },
 "nbformat": 4,
 "nbformat_minor": 4
}
